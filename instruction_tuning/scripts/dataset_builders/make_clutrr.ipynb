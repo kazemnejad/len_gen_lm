{
 "cells": [
  {
   "cell_type": "code",
   "execution_count": 1,
   "metadata": {
    "collapsed": true
   },
   "outputs": [
    {
     "name": "stdout",
     "output_type": "stream",
     "text": [
      "Cloning into 'SGinPG'...\r\n",
      "remote: Enumerating objects: 102, done.\u001B[K\r\n",
      "remote: Counting objects: 100% (102/102), done.\u001B[K\r\n",
      "remote: Compressing objects: 100% (54/54), done.\u001B[K\r\n",
      "remote: Total 102 (delta 46), reused 90 (delta 40), pack-reused 0\u001B[K\r\n",
      "Receiving objects: 100% (102/102), 856.37 KiB | 7.08 MiB/s, done.\r\n",
      "Resolving deltas: 100% (46/46), done.\r\n"
     ]
    }
   ],
   "source": [
    "! git clone https://github.com/NicolasAG/SGinPG.git"
   ]
  },
  {
   "cell_type": "code",
   "execution_count": 2,
   "outputs": [
    {
     "name": "stdout",
     "output_type": "stream",
     "text": [
      "/Users/amirhosein/Development/PycharmProjects/len_gen/scripts/dataset_builders/SGinPG/data\n"
     ]
    }
   ],
   "source": [
    "%cd SGinPG/data"
   ],
   "metadata": {
    "collapsed": false
   }
  },
  {
   "cell_type": "code",
   "execution_count": 3,
   "outputs": [
    {
     "name": "stdout",
     "output_type": "stream",
     "text": [
      "downloading clutrr data files...\r\n",
      "  % Total    % Received % Xferd  Average Speed   Time    Time     Time  Current\r\n",
      "                                 Dload  Upload   Total   Spent    Left  Speed\r\n",
      "100  2272    0  2272    0     0   8548      0 --:--:-- --:--:-- --:--:--  8875\r\n",
      "  % Total    % Received % Xferd  Average Speed   Time    Time     Time  Current\r\n",
      "                                 Dload  Upload   Total   Spent    Left  Speed\r\n",
      "  0     0    0     0    0     0      0      0 --:--:-- --:--:-- --:--:--     0\r\n",
      "100  333M  100  333M    0     0  32.7M      0  0:00:10  0:00:10 --:--:-- 34.4M\r\n",
      "unzipping...\r\n",
      "done.\r\n"
     ]
    }
   ],
   "source": [
    "! chmod a+x setup.sh\n",
    "! ./setup.sh"
   ],
   "metadata": {
    "collapsed": false
   }
  },
  {
   "cell_type": "code",
   "execution_count": 4,
   "outputs": [
    {
     "name": "stdout",
     "output_type": "stream",
     "text": [
      "\u001B[1m\u001B[36mbackward\u001B[m\u001B[m             relations_store.yaml \u001B[31msetup.sh\u001B[m\u001B[m\r\n",
      "\u001B[1m\u001B[36mforward\u001B[m\u001B[m              rules_store.yaml\r\n"
     ]
    }
   ],
   "source": [
    "! ls"
   ],
   "metadata": {
    "collapsed": false
   }
  },
  {
   "cell_type": "code",
   "execution_count": 4,
   "outputs": [
    {
     "data": {
      "text/plain": "{'source': 'ent_3 is a daughter of ent_6 . ent_6 is a husband to ent_20 . [query] How is ent_20 related to ent_3 ?',\n 'target': 'ent_3 is the daughter of ent_20',\n 'scratchpad': ['since ent_3 is a daughter of ent_6 , and ent_6 is a husband to ent_20 , then ent_3 is the daughter of ent_20']}"
     },
     "execution_count": 4,
     "metadata": {},
     "output_type": "execute_result"
    }
   ],
   "source": [
    "import re\n",
    "p = re.compile(r'<STORY>((.)+)<QUERY>((.)+)<PROOF>((.)+)<ANSWER>((.)+)')\n",
    "def process_instance(instance: str):\n",
    "    res =  re.search(p, instance)\n",
    "    story = res.group(1).strip()\n",
    "    query = res.group(3).strip()\n",
    "    proof = res.group(5).strip()\n",
    "    answer = res.group(7).strip()\n",
    "    source = f\"{story} [query] {query}\"\n",
    "    target = answer.replace(\".\", \"\").strip()\n",
    "    scratchpad = [s.strip().replace(\"Since\", \"since\") for s in proof.split(\".\") if len(s.strip()) > 0]\n",
    "    scratchpad = scratchpad\n",
    "    return {\n",
    "        \"source\": source,\n",
    "        \"target\": target,\n",
    "        \"scratchpad\": scratchpad,\n",
    "    }\n",
    "\n",
    "s = \"<STORY> ent_3 is a daughter of ent_6 . ent_6 is a husband to ent_20 . <QUERY> How is ent_20 related to ent_3 ? <PROOF> Since ent_3 is a daughter of ent_6 , and ent_6 is a husband to ent_20 , then ent_3 is the daughter of ent_20 . <ANSWER> ent_3 is the daughter of ent_20 .\"\n",
    "\n",
    "process_instance(s)"
   ],
   "metadata": {
    "collapsed": false
   }
  },
  {
   "cell_type": "code",
   "execution_count": 5,
   "outputs": [],
   "source": [
    "split = \"bwd_short\"\n",
    "proof_type = \"short\"\n",
    "direction = \"backward\""
   ],
   "metadata": {
    "collapsed": false
   }
  },
  {
   "cell_type": "code",
   "execution_count": 8,
   "outputs": [
    {
     "data": {
      "text/plain": "[2, 4, 6]"
     },
     "execution_count": 8,
     "metadata": {},
     "output_type": "execute_result"
    }
   ],
   "source": [
    "list(range(2,7,2))"
   ],
   "metadata": {
    "collapsed": false
   }
  },
  {
   "cell_type": "code",
   "execution_count": 22,
   "outputs": [
    {
     "data": {
      "text/plain": "\"<story> ent_3 is the sister of ent_6 . ent_20 is ent_3 's son . [query] how are ent_6 and ent_20 related to each other ? <proof> since ent_20 is a son to ent_3 , and ent_3 is a sister to ent_6 , then ent_20 is a nephew to ent_6 <answer> ent_20 is the nephew of ent_6 .\""
     },
     "execution_count": 22,
     "metadata": {},
     "output_type": "execute_result"
    }
   ],
   "source": [
    "\"<story> ent_3 is the sister of ent_6 . ent_20 is ent_3 's son . <query> how are ent_6 and ent_20 related to each other ? <proof> since ent_20 is a son to ent_3 , and ent_3 is a sister to ent_6 , then ent_20 is a nephew to ent_6 <answer> ent_20 is the nephew of ent_6 .\".replace(\"<query>\", \"[query]\")"
   ],
   "metadata": {
    "collapsed": false
   }
  },
  {
   "cell_type": "code",
   "execution_count": 28,
   "outputs": [
    {
     "data": {
      "text/plain": "({'source': \"ent_3 is the sister of ent_6 . ent_20 is ent_3 's son . [query] How are ent_6 and ent_20 related to each other ?\",\n  'target': 'ent_20 is the nephew of ent_6',\n  'scratchpad': ['since ent_20 is a son to ent_3 , and ent_3 is a sister to ent_6 , then ent_20 is a nephew to ent_6'],\n  'category': '2'},\n 276904)"
     },
     "execution_count": 28,
     "metadata": {},
     "output_type": "execute_result"
    }
   ],
   "source": [
    "from pathlib import Path\n",
    "train = []\n",
    "for i in range(2,7,2):\n",
    "    with open(Path(direction) / \"train\" / f\"{proof_type}_proof_1.{i}_train_facts_anon.txt.4000\", encoding=\"utf8\") as f:\n",
    "        for l in f:\n",
    "            l = l.strip()\n",
    "            l = l.replace(\"<query>\", \"[query]\")\n",
    "            d = process_instance(l)\n",
    "            l = l.replace(\"<QUERY>\", \"[query]\").lower()\n",
    "            assert l.find(d[\"source\"].lower()) != -1, f\"line:{l} Parsed:{d['source'].lower()}\"\n",
    "            assert l.find(d[\"target\"].lower()) != -1\n",
    "            scratchpad = \" . \".join(d[\"scratchpad\"])\n",
    "            assert l.find(scratchpad.lower()) != -1, (scratchpad, l)\n",
    "            d[\"category\"] = f\"{i}\"\n",
    "            train.append(d)\n",
    "\n",
    "train[0],len(train)"
   ],
   "metadata": {
    "collapsed": false
   }
  },
  {
   "cell_type": "code",
   "execution_count": 29,
   "outputs": [
    {
     "data": {
      "text/plain": "({'source': 'ent_6 is a uncle of ent_3 . ent_3 is the son of ent_20 . [query] How is ent_20 related to ent_6 ?',\n  'target': 'ent_6 is the brother of ent_20',\n  'scratchpad': ['since ent_6 is a uncle to ent_3 , and ent_3 is a son of ent_20 , then ent_6 is a brother to ent_20'],\n  'category': '2'},\n 31346)"
     },
     "execution_count": 29,
     "metadata": {},
     "output_type": "execute_result"
    }
   ],
   "source": [
    "from pathlib import Path\n",
    "valid = []\n",
    "for i in range(2,7,2):\n",
    "    with open(Path(direction) / \"valid\" / f\"{proof_type}_proof_1.{i}_valid_facts_anon.txt.4000\") as f:\n",
    "        for l in f:\n",
    "            l = l.strip()\n",
    "            d = process_instance(l)\n",
    "            l = l.replace(\"<QUERY>\", \"[query]\").lower()\n",
    "            assert l.find(d[\"source\"].lower()) != -1\n",
    "            assert l.find(d[\"target\"].lower()) != -1\n",
    "            scratchpad = \" . \".join(d[\"scratchpad\"][1:-1])\n",
    "            assert l.find(scratchpad.lower()) != -1, (scratchpad, l)\n",
    "            d[\"category\"] = f\"{i}\"\n",
    "            valid.append(d)\n",
    "\n",
    "valid[0],len(valid)"
   ],
   "metadata": {
    "collapsed": false
   }
  },
  {
   "cell_type": "code",
   "execution_count": 30,
   "outputs": [
    {
     "data": {
      "text/plain": "({'source': 'ent_3 is a daughter of ent_6 . ent_6 is a husband to ent_20 . [query] How is ent_20 related to ent_3 ?',\n  'target': 'ent_3 is the daughter of ent_20',\n  'scratchpad': ['since ent_3 is a daughter of ent_6 , and ent_6 is a husband to ent_20 , then ent_3 is the daughter of ent_20'],\n  'category': '2'},\n 77288)"
     },
     "execution_count": 30,
     "metadata": {},
     "output_type": "execute_result"
    }
   ],
   "source": [
    "from pathlib import Path\n",
    "test = []\n",
    "for i in range(2, 11):\n",
    "    with open(Path(direction) / \"test\" / str(i) / f\"{proof_type}_proof_1.{i}_test_facts_ANON.txt\") as f:\n",
    "        for l in f:\n",
    "            l = l.strip()\n",
    "            d = process_instance(l)\n",
    "            d[\"category\"] = f\"{i}\"\n",
    "            l = l.replace(\"<QUERY>\", \"[query]\").lower()\n",
    "            assert l.find(d[\"source\"].lower()) != -1\n",
    "            assert l.find(d[\"target\"].lower()) != -1\n",
    "            scratchpad = \" . \".join(d[\"scratchpad\"][1:-1])\n",
    "            assert l.find(scratchpad.lower()) != -1, (scratchpad, l)\n",
    "            test.append(d)\n",
    "\n",
    "test[0], len(test)"
   ],
   "metadata": {
    "collapsed": false
   }
  },
  {
   "cell_type": "code",
   "execution_count": 36,
   "outputs": [
    {
     "data": {
      "text/plain": "Counter({'2': 96011, '4': 89971, '6': 90922})"
     },
     "execution_count": 36,
     "metadata": {},
     "output_type": "execute_result"
    }
   ],
   "source": [
    "from collections import Counter\n",
    "Counter([d[\"category\"] for d in train])"
   ],
   "metadata": {
    "collapsed": false
   }
  },
  {
   "cell_type": "code",
   "execution_count": 37,
   "outputs": [
    {
     "data": {
      "text/plain": "Counter({'2': 10971, '4': 10085, '6': 10290})"
     },
     "execution_count": 37,
     "metadata": {},
     "output_type": "execute_result"
    }
   ],
   "source": [
    "from collections import Counter\n",
    "Counter([d[\"category\"] for d in valid])"
   ],
   "metadata": {
    "collapsed": false
   }
  },
  {
   "cell_type": "code",
   "execution_count": 38,
   "outputs": [
    {
     "data": {
      "text/plain": "Counter({'2': 3102,\n         '3': 10054,\n         '4': 9945,\n         '5': 9525,\n         '6': 8788,\n         '7': 7560,\n         '8': 8805,\n         '9': 9608,\n         '10': 9901})"
     },
     "execution_count": 38,
     "metadata": {},
     "output_type": "execute_result"
    }
   ],
   "source": [
    "from collections import Counter\n",
    "Counter([d[\"category\"] for d in test])"
   ],
   "metadata": {
    "collapsed": false
   }
  },
  {
   "cell_type": "code",
   "execution_count": 31,
   "outputs": [],
   "source": [
    "import jsonlines\n",
    "\n",
    "def save_jsonl(ds_dir: Path, examples, name):\n",
    "    with open(ds_dir / f\"{name}.jsonl\", \"w\") as f:\n",
    "        jsonlines.Writer(f).write_all(examples)\n",
    "\n",
    "ds_dir = Path(f\"clutrr-{split}\") / \"clutrr\" / split\n",
    "ds_dir.mkdir(parents=True, exist_ok=True)\n",
    "\n",
    "save_jsonl(ds_dir, train, \"train\")\n",
    "save_jsonl(ds_dir, valid, \"validation\")\n",
    "save_jsonl(ds_dir, test, \"test\")"
   ],
   "metadata": {
    "collapsed": false
   }
  },
  {
   "cell_type": "code",
   "execution_count": 33,
   "outputs": [
    {
     "name": "stdout",
     "output_type": "stream",
     "text": [
      "{'source': \"ent_3 is the sister of ent_6 . ent_20 is ent_3 's son . [query] How are ent_6 and ent_20 related to each other ?\", 'target': 'ent_20 is the nephew of ent_6', 'scratchpad': ['since ent_20 is a son to ent_3 , and ent_3 is a sister to ent_6 , then ent_20 is a nephew to ent_6'], 'category': '2'}\n",
      "0\n"
     ]
    }
   ],
   "source": [
    "for i, d in enumerate(train):\n",
    "    if len(d[\"scratchpad\"]) <= 1:\n",
    "        print(d)\n",
    "        print(i)\n",
    "        break"
   ],
   "metadata": {
    "collapsed": false
   }
  },
  {
   "cell_type": "code",
   "execution_count": 34,
   "outputs": [
    {
     "name": "stdout",
     "output_type": "stream",
     "text": [
      "\u001B[01;34mclutrr-bwd_short/clutrr/bwd_short\u001B[00m\r\n",
      "├── test.jsonl\r\n",
      "├── train.jsonl\r\n",
      "└── validation.jsonl\r\n",
      "\r\n",
      "0 directories, 3 files\r\n"
     ]
    }
   ],
   "source": [
    "! tree {ds_dir}"
   ],
   "metadata": {
    "collapsed": false
   }
  },
  {
   "cell_type": "code",
   "execution_count": 35,
   "outputs": [
    {
     "name": "stdout",
     "output_type": "stream",
     "text": [
      "\u001B[34m\u001B[1mwandb\u001B[0m: Uploading directory clutrr-bwd_short to: \"kzmnjd/len_gen/data-clutrr-bwd_short:latest\" (dataset)\r\n",
      "\u001B[34m\u001B[1mwandb\u001B[0m: Adding directory to artifact (./clutrr-bwd_short)... Done. 1.2s\r\n",
      "\u001B[34m\u001B[1mwandb\u001B[0m: Currently logged in as: \u001B[33mkzmnjd\u001B[0m. Use \u001B[1m`wandb login --relogin`\u001B[0m to force relogin\r\n",
      "\u001B[34m\u001B[1mwandb\u001B[0m: wandb version 0.13.10 is available!  To upgrade, please run:\r\n",
      "\u001B[34m\u001B[1mwandb\u001B[0m:  $ pip install wandb --upgrade\r\n",
      "\u001B[34m\u001B[1mwandb\u001B[0m: Tracking run with wandb version 0.13.7\r\n",
      "\u001B[34m\u001B[1mwandb\u001B[0m: Run data is saved locally in \u001B[35m\u001B[1m/Users/amirhosein/Development/PycharmProjects/len_gen/scripts/dataset_builders/SGinPG/data/wandb/run-20230219_164413-2bmf1fmm\u001B[0m\r\n",
      "\u001B[34m\u001B[1mwandb\u001B[0m: Run \u001B[1m`wandb offline`\u001B[0m to turn off syncing.\r\n",
      "\u001B[34m\u001B[1mwandb\u001B[0m: Syncing run \u001B[33mfiery-cosmos-2503\u001B[0m\r\n",
      "\u001B[34m\u001B[1mwandb\u001B[0m: ⭐️ View project at \u001B[34m\u001B[4mhttps://wandb.ai/kzmnjd/len_gen\u001B[0m\r\n",
      "\u001B[34m\u001B[1mwandb\u001B[0m: 🚀 View run at \u001B[34m\u001B[4mhttps://wandb.ai/kzmnjd/len_gen/runs/2bmf1fmm\u001B[0m\r\n",
      "Artifact uploaded, use this artifact in a run by adding:\r\n",
      "\r\n",
      "    artifact = run.use_artifact(\"kzmnjd/len_gen/data-clutrr-bwd_short:latest\")\r\n",
      "\r\n",
      "\u001B[34m\u001B[1mwandb\u001B[0m: Waiting for W&B process to finish... \u001B[32m(success).\u001B[0m\r\n",
      "\u001B[34m\u001B[1mwandb\u001B[0m: Synced \u001B[33mfiery-cosmos-2503\u001B[0m: \u001B[34m\u001B[4mhttps://wandb.ai/kzmnjd/len_gen/runs/2bmf1fmm\u001B[0m\r\n",
      "\u001B[34m\u001B[1mwandb\u001B[0m: Synced 6 W&B file(s), 0 media file(s), 3 artifact file(s) and 0 other file(s)\r\n",
      "\u001B[34m\u001B[1mwandb\u001B[0m: Find logs at: \u001B[35m\u001B[1m./wandb/run-20230219_164413-2bmf1fmm/logs\u001B[0m\r\n"
     ]
    }
   ],
   "source": [
    "! WANDB_ENTITY=kzmnjd WANDB_PROJECT=len_gen WANDB_RUN_GROUP=ds_upload wandb artifact put -n data-clutrr-{split} clutrr-{split}"
   ],
   "metadata": {
    "collapsed": false
   }
  }
 ],
 "metadata": {
  "kernelspec": {
   "display_name": "Python 3",
   "language": "python",
   "name": "python3"
  },
  "language_info": {
   "codemirror_mode": {
    "name": "ipython",
    "version": 2
   },
   "file_extension": ".py",
   "mimetype": "text/x-python",
   "name": "python",
   "nbconvert_exporter": "python",
   "pygments_lexer": "ipython2",
   "version": "2.7.6"
  }
 },
 "nbformat": 4,
 "nbformat_minor": 0
}
